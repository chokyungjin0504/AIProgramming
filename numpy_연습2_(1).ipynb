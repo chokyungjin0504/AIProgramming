{
  "nbformat": 4,
  "nbformat_minor": 0,
  "metadata": {
    "colab": {
      "provenance": [],
      "include_colab_link": true
    },
    "kernelspec": {
      "name": "python3",
      "display_name": "Python 3"
    },
    "language_info": {
      "name": "python"
    }
  },
  "cells": [
    {
      "cell_type": "markdown",
      "metadata": {
        "id": "view-in-github",
        "colab_type": "text"
      },
      "source": [
        "<a href=\"https://colab.research.google.com/github/chokyungjin0504/AIProgramming/blob/main/numpy_%EC%97%B0%EC%8A%B52_(1).ipynb\" target=\"_parent\"><img src=\"https://colab.research.google.com/assets/colab-badge.svg\" alt=\"Open In Colab\"/></a>"
      ]
    },
    {
      "cell_type": "markdown",
      "source": [
        "아래 문제들은 결과 출력까지 실행 후 ipynb  파일과 .py 파일로 제출  \n",
        "print(b)의 결과가 다음과 같이 되는 code를 작성하시오..  \n",
        "b는 a를 이용하여 정의 함.   "
      ],
      "metadata": {
        "id": "vydh4AaATqYd"
      }
    },
    {
      "cell_type": "markdown",
      "source": [
        "1.   \n",
        "[[ 0  1  2  3  4  5  6  7  8  9 10 11 12 13 14 15]]\n"
      ],
      "metadata": {
        "id": "oaQJW-vjZYqp"
      }
    },
    {
      "cell_type": "code",
      "source": [
        "import numpy as np\n",
        "a=np.arange(16).reshape(1, 16)\n",
        "\n",
        "b = a[:, ::1]\n",
        "\n",
        "print(a)\n",
        "print(b)"
      ],
      "metadata": {
        "id": "s7WN7jUqZcjd",
        "colab": {
          "base_uri": "https://localhost:8080/"
        },
        "outputId": "95361d60-fb06-410e-d762-26a8a014f5bf"
      },
      "execution_count": null,
      "outputs": [
        {
          "output_type": "stream",
          "name": "stdout",
          "text": [
            "[[ 0  1  2  3  4  5  6  7  8  9 10 11 12 13 14 15]]\n",
            "[[ 0  1  2  3  4  5  6  7  8  9 10 11 12 13 14 15]]\n"
          ]
        }
      ]
    },
    {
      "cell_type": "markdown",
      "source": [
        "2.   \n",
        "[  [ 0  1  2  3  4  5  6  7]  \n",
        "   [ 8  9 10 11 12 13 14 15]  ]\n"
      ],
      "metadata": {
        "id": "D5qqUBjKZqsG"
      }
    },
    {
      "cell_type": "code",
      "source": [
        "import numpy as np\n",
        "a = np.arange(16).reshape(2, 8)\n",
        "\n",
        "b = a\n",
        "\n",
        "print(a)\n",
        "print(b)"
      ],
      "metadata": {
        "id": "JspbrxxJZnqY",
        "colab": {
          "base_uri": "https://localhost:8080/"
        },
        "outputId": "b63e0ece-c825-4178-cd5f-df1e597dd2c0"
      },
      "execution_count": null,
      "outputs": [
        {
          "output_type": "stream",
          "name": "stdout",
          "text": [
            "[[ 0  1  2  3  4  5  6  7]\n",
            " [ 8  9 10 11 12 13 14 15]]\n",
            "[[ 0  1  2  3  4  5  6  7]\n",
            " [ 8  9 10 11 12 13 14 15]]\n"
          ]
        }
      ]
    },
    {
      "cell_type": "markdown",
      "source": [
        "3.\n",
        "\n",
        "[ [ [ 0  1]  \n",
        "    [ 2  3]  \n",
        "    [ 4  5]  \n",
        "    [ 6  7]  \n",
        "    [ 8  9]  \n",
        "    [10 11]  \n",
        "    [12 13]  \n",
        "    [14 15]]  ]  "
      ],
      "metadata": {
        "id": "592OJ3VlSerQ"
      }
    },
    {
      "cell_type": "code",
      "source": [
        "import numpy as np\n",
        "\n",
        "a = np.arange(16).reshape(8, 2)\n",
        "\n",
        "b = np.reshape(a, (8, 2))\n",
        "\n",
        "print(a)\n",
        "print(b)"
      ],
      "metadata": {
        "id": "jZvIdvJDOyVY",
        "colab": {
          "base_uri": "https://localhost:8080/"
        },
        "outputId": "29cf41e9-c728-4ce2-ca4c-95a82c552a52"
      },
      "execution_count": null,
      "outputs": [
        {
          "output_type": "stream",
          "name": "stdout",
          "text": [
            "[[ 0  1]\n",
            " [ 2  3]\n",
            " [ 4  5]\n",
            " [ 6  7]\n",
            " [ 8  9]\n",
            " [10 11]\n",
            " [12 13]\n",
            " [14 15]]\n",
            "[[ 0  1]\n",
            " [ 2  3]\n",
            " [ 4  5]\n",
            " [ 6  7]\n",
            " [ 8  9]\n",
            " [10 11]\n",
            " [12 13]\n",
            " [14 15]]\n"
          ]
        }
      ]
    },
    {
      "cell_type": "markdown",
      "source": [
        "4.\n",
        "\n",
        "[ [[ 0]  \n",
        "   [ 1]  \n",
        "   [ 2]]  \n",
        "\n",
        " [ [ 3]  \n",
        "   [ 4]  \n",
        "   [ 5] ]  \n",
        "\n",
        " [ [ 6]  \n",
        "   [ 7]  \n",
        "   [ 8]  ]  \n",
        "\n",
        " [ [ 9]  \n",
        "   [10]  \n",
        "   [11] ] ]  \n"
      ],
      "metadata": {
        "id": "ajWBo2VXawqL"
      }
    },
    {
      "cell_type": "code",
      "source": [
        "import numpy as np\n",
        "a = np.arange(12).reshape(4, 3)\n",
        "b = np.reshape(a, (4, 3, 1))\n",
        "\n",
        "print(a)\n",
        "print(b)"
      ],
      "metadata": {
        "id": "pgi78cfkZ6NS",
        "colab": {
          "base_uri": "https://localhost:8080/"
        },
        "outputId": "2543f8e9-e877-406b-bde0-94a0ce2dbac6"
      },
      "execution_count": null,
      "outputs": [
        {
          "output_type": "stream",
          "name": "stdout",
          "text": [
            "[[ 0  1  2]\n",
            " [ 3  4  5]\n",
            " [ 6  7  8]\n",
            " [ 9 10 11]]\n",
            "[[[ 0]\n",
            "  [ 1]\n",
            "  [ 2]]\n",
            "\n",
            " [[ 3]\n",
            "  [ 4]\n",
            "  [ 5]]\n",
            "\n",
            " [[ 6]\n",
            "  [ 7]\n",
            "  [ 8]]\n",
            "\n",
            " [[ 9]\n",
            "  [10]\n",
            "  [11]]]\n"
          ]
        }
      ]
    },
    {
      "cell_type": "markdown",
      "source": [
        "5. [8]  \n",
        "\n"
      ],
      "metadata": {
        "id": "ZVFhVdHiXGs5"
      }
    },
    {
      "cell_type": "code",
      "source": [
        "import numpy as np\n",
        "a=np.array([[1,2,3,4],[5,6,7,8],[9,10,11,12]])\n",
        "b=a[1:2, 3:]\n",
        "print(b)"
      ],
      "metadata": {
        "id": "Rtng0qrqXXy8",
        "colab": {
          "base_uri": "https://localhost:8080/"
        },
        "outputId": "ff489bb3-03e2-433c-a643-e27b4f0bc96a"
      },
      "execution_count": null,
      "outputs": [
        {
          "output_type": "stream",
          "name": "stdout",
          "text": [
            "[[8]]\n"
          ]
        }
      ]
    }
  ]
}