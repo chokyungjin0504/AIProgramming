{
  "nbformat": 4,
  "nbformat_minor": 0,
  "metadata": {
    "colab": {
      "provenance": [],
      "include_colab_link": true
    },
    "kernelspec": {
      "name": "python3",
      "display_name": "Python 3"
    },
    "language_info": {
      "name": "python"
    }
  },
  "cells": [
    {
      "cell_type": "markdown",
      "metadata": {
        "id": "view-in-github",
        "colab_type": "text"
      },
      "source": [
        "<a href=\"https://colab.research.google.com/github/chokyungjin0504/AIProgramming/blob/main/numpy_%EC%97%B0%EC%8A%B51_2024_rev.ipynb\" target=\"_parent\"><img src=\"https://colab.research.google.com/assets/colab-badge.svg\" alt=\"Open In Colab\"/></a>"
      ]
    },
    {
      "cell_type": "markdown",
      "source": [
        "아래 문제들은 결과 출력까시 실행 후 노트북 파일을 제출"
      ],
      "metadata": {
        "id": "vydh4AaATqYd"
      }
    },
    {
      "cell_type": "markdown",
      "source": [
        "1.1차원이면서 크기가 10이고 0으로 채워진 배열을 생성하고 다섯번째 요소를 1로 설정하는 코드를 작성하시오."
      ],
      "metadata": {
        "id": "592OJ3VlSerQ"
      }
    },
    {
      "cell_type": "code",
      "source": [
        "import numpy as np\n",
        "a = np.array([0, 0, 0, 0, 1, 0, 0, 0, 0, 0])\n",
        "print(a)"
      ],
      "metadata": {
        "id": "jZvIdvJDOyVY",
        "colab": {
          "base_uri": "https://localhost:8080/"
        },
        "outputId": "bd0e70e5-28c7-485f-92d6-264f7a4566b4"
      },
      "execution_count": 3,
      "outputs": [
        {
          "output_type": "stream",
          "name": "stdout",
          "text": [
            "[0 0 0 0 1 0 0 0 0 0]\n"
          ]
        }
      ]
    },
    {
      "cell_type": "markdown",
      "source": [
        "2.아래와 같은 배열을 생성하는 code를 작성하시오.\n",
        "arange 사용\n",
        "\n",
        "[3,6,9,12,15,18,21]"
      ],
      "metadata": {
        "id": "ZVFhVdHiXGs5"
      }
    },
    {
      "cell_type": "code",
      "source": [
        "import numpy as np\n",
        "a = np.arange(3, 22, 3)\n",
        "print(a)"
      ],
      "metadata": {
        "id": "Rtng0qrqXXy8",
        "colab": {
          "base_uri": "https://localhost:8080/"
        },
        "outputId": "52aee72f-dd4b-4337-f7d3-b782c2999d9c"
      },
      "execution_count": 6,
      "outputs": [
        {
          "output_type": "stream",
          "name": "stdout",
          "text": [
            "[ 3  6  9 12 15 18 21]\n"
          ]
        }
      ]
    },
    {
      "cell_type": "markdown",
      "source": [
        "3.0부터 8까지의 값을 가지고 크기가 3x3인 행렬을 arange와 reshape 명령어를 이용하여 생성 하시오.\n",
        "\n",
        "[[0 1 2]    \n",
        " [3,4,5]  \n",
        " [6,7,8]]\n"
      ],
      "metadata": {
        "id": "Q7f9SpttTHt5"
      }
    },
    {
      "cell_type": "code",
      "source": [
        "import numpy as np\n",
        "a = np.arange(9).reshape(3, 3) #arange(8)이 아님을 주의\n",
        "print(a)"
      ],
      "metadata": {
        "id": "2SXQGKL5Tzmd",
        "colab": {
          "base_uri": "https://localhost:8080/"
        },
        "outputId": "5817185f-f662-4bc7-e9d4-399794d2a7da"
      },
      "execution_count": 10,
      "outputs": [
        {
          "output_type": "stream",
          "name": "stdout",
          "text": [
            "[[0 1 2]\n",
            " [3 4 5]\n",
            " [6 7 8]]\n"
          ]
        }
      ]
    },
    {
      "cell_type": "markdown",
      "source": [
        "4.난수로 채워진 3x3 배열을 생성하고 최대값과 최소값을 구하는 코드를 작성 하시오"
      ],
      "metadata": {
        "id": "3KGmXq0_T_Sl"
      }
    },
    {
      "cell_type": "code",
      "source": [
        "import numpy as np\n",
        "np.random.seed(100)\n",
        "a = np.random.rand(3, 3)\n",
        "print(a)\n",
        "print(a.max())\n",
        "print(a.min())"
      ],
      "metadata": {
        "id": "xbyKcM1AUX7t",
        "colab": {
          "base_uri": "https://localhost:8080/"
        },
        "outputId": "99ef0f44-9b2c-480f-aa91-38cdceb164bf"
      },
      "execution_count": 15,
      "outputs": [
        {
          "output_type": "stream",
          "name": "stdout",
          "text": [
            "[[0.54340494 0.27836939 0.42451759]\n",
            " [0.84477613 0.00471886 0.12156912]\n",
            " [0.67074908 0.82585276 0.13670659]]\n",
            "0.8447761323199037\n",
            "0.004718856190972565\n"
          ]
        }
      ]
    },
    {
      "cell_type": "markdown",
      "source": [
        "5.다음과 같은 행렬을 만드는 code를 작성하시오.\n",
        "(ones 함수와 slicing 이용)\n",
        "\n",
        "[[1,1,1,0,0]    \n",
        "  [1,1,1,0,0]  \n",
        "  [1,1,1,0,0]   \n",
        "  [1,1,1,1,1]]"
      ],
      "metadata": {
        "id": "wdJDT55-VCw8"
      }
    },
    {
      "cell_type": "code",
      "source": [
        "import numpy as np\n",
        "a = np.ones((4, 5))\n",
        "a[:3, 3:] = 0\n",
        "print(a)"
      ],
      "metadata": {
        "id": "U16T9gcHVwkF",
        "colab": {
          "base_uri": "https://localhost:8080/"
        },
        "outputId": "da512656-90ef-46fd-88bd-9388c156c1c7"
      },
      "execution_count": 16,
      "outputs": [
        {
          "output_type": "stream",
          "name": "stdout",
          "text": [
            "[[1. 1. 1. 0. 0.]\n",
            " [1. 1. 1. 0. 0.]\n",
            " [1. 1. 1. 0. 0.]\n",
            " [1. 1. 1. 1. 1.]]\n"
          ]
        }
      ]
    },
    {
      "cell_type": "markdown",
      "source": [
        "6.5x5 행렬을 만들어 체크보드 패턴으로 채워보자\n",
        "( zeros 함수와 slicing 이용)\n",
        "\n",
        "[[0,1,0,1,0]  \n",
        "[1,0,1,0,1]  \n",
        "[0,1,0,1,0]  \n",
        "[1,0,1,0,1]  \n",
        "[0,1,0,1,0]]  "
      ],
      "metadata": {
        "id": "k5AJ3OVbV0oC"
      }
    },
    {
      "cell_type": "code",
      "source": [
        "import numpy as np\n",
        "a = np.zeros((5, 5))\n",
        "a[::2, 1::2] = 1\n",
        "a[1::2, 2::] = 1\n",
        "print(a)"
      ],
      "metadata": {
        "id": "8t4wgaYSZwxt",
        "colab": {
          "base_uri": "https://localhost:8080/"
        },
        "outputId": "7452a1ce-c29f-4f9a-e444-656b7fdc16b8"
      },
      "execution_count": 19,
      "outputs": [
        {
          "output_type": "stream",
          "name": "stdout",
          "text": [
            "[[0. 1. 0. 1. 0.]\n",
            " [0. 0. 1. 1. 1.]\n",
            " [0. 1. 0. 1. 0.]\n",
            " [0. 0. 1. 1. 1.]\n",
            " [0. 1. 0. 1. 0.]]\n"
          ]
        }
      ]
    },
    {
      "cell_type": "markdown",
      "source": [
        "7.5x5 행렬을 만들어 아래와 같은 패턴으로 채워보자 ( zeros 함수와 slicing 이용)\n",
        "\n",
        "[[0,0,0,0,0]  \n",
        "[1,1,1,1,1]  \n",
        "[0,0,0,0,0]  \n",
        "[1,1,1,1,1]  \n",
        "[0,0,0,0,0]]  "
      ],
      "metadata": {
        "id": "_gmSTBL7g_Vj"
      }
    },
    {
      "cell_type": "code",
      "source": [
        "import numpy as np\n",
        "a = np.zeros((5, 5))\n",
        "a[1::2, :] = 1\n",
        "print(a)"
      ],
      "metadata": {
        "id": "e14oYF3qhcXi",
        "colab": {
          "base_uri": "https://localhost:8080/"
        },
        "outputId": "2a004956-ed2b-4b2b-a1b1-f18b01ea25fd"
      },
      "execution_count": 21,
      "outputs": [
        {
          "output_type": "stream",
          "name": "stdout",
          "text": [
            "[[0. 0. 0. 0. 0.]\n",
            " [1. 1. 1. 1. 1.]\n",
            " [0. 0. 0. 0. 0.]\n",
            " [1. 1. 1. 1. 1.]\n",
            " [0. 0. 0. 0. 0.]]\n"
          ]
        }
      ]
    },
    {
      "cell_type": "markdown",
      "source": [
        "8.다음 배열이 가장 자리만 0이 되도록 변경 하시오.\n"
      ],
      "metadata": {
        "id": "gm6T3m1JZ9ok"
      }
    },
    {
      "cell_type": "code",
      "source": [
        "import numpy as np\n",
        "a = np.ones((10,10))\n",
        "a[0, :] = 0\n",
        "a[9, :] = 0\n",
        "a[:, 0] = 0\n",
        "a[:, 9] = 0\n",
        "print(a)"
      ],
      "metadata": {
        "id": "1S-q9rPpcYLm",
        "colab": {
          "base_uri": "https://localhost:8080/"
        },
        "outputId": "a10bbdb6-3026-42d9-d710-241a4f5a0667"
      },
      "execution_count": 24,
      "outputs": [
        {
          "output_type": "stream",
          "name": "stdout",
          "text": [
            "[[0. 0. 0. 0. 0. 0. 0. 0. 0. 0.]\n",
            " [0. 1. 1. 1. 1. 1. 1. 1. 1. 0.]\n",
            " [0. 1. 1. 1. 1. 1. 1. 1. 1. 0.]\n",
            " [0. 1. 1. 1. 1. 1. 1. 1. 1. 0.]\n",
            " [0. 1. 1. 1. 1. 1. 1. 1. 1. 0.]\n",
            " [0. 1. 1. 1. 1. 1. 1. 1. 1. 0.]\n",
            " [0. 1. 1. 1. 1. 1. 1. 1. 1. 0.]\n",
            " [0. 1. 1. 1. 1. 1. 1. 1. 1. 0.]\n",
            " [0. 1. 1. 1. 1. 1. 1. 1. 1. 0.]\n",
            " [0. 0. 0. 0. 0. 0. 0. 0. 0. 0.]]\n"
          ]
        }
      ]
    },
    {
      "cell_type": "markdown",
      "source": [
        "9.아래 a에서  \n",
        "1) 10보다 값이 큰 원소의 인덱스 print  \n",
        "2) 값이 0인 원소의 인덱스 print   \n"
      ],
      "metadata": {
        "id": "9sYxq0rmdSuX"
      }
    },
    {
      "cell_type": "code",
      "source": [
        "import numpy as np\n",
        "a = np.array([3,6,2,0,5,8,15,3,0,6,0])\n",
        "b = np.where(a>10)[0]\n",
        "c = np.where(a==0)[0] #이해 필요\n",
        "print(b)\n",
        "print(c)"
      ],
      "metadata": {
        "id": "jesckxPEdYPD",
        "colab": {
          "base_uri": "https://localhost:8080/"
        },
        "outputId": "c2ccc9b9-ced3-40a0-eee0-71be3062820f"
      },
      "execution_count": 25,
      "outputs": [
        {
          "output_type": "stream",
          "name": "stdout",
          "text": [
            "[6]\n",
            "[ 3  8 10]\n"
          ]
        }
      ]
    },
    {
      "cell_type": "markdown",
      "source": [
        "10.아래 code실행 후 a를 print했을때 아래와같이 나오도록 code를 추가 하시오.  \n",
        "[ 9  8 10  9]"
      ],
      "metadata": {
        "id": "CHgoISH60ojj"
      }
    },
    {
      "cell_type": "code",
      "source": [
        "import numpy as np\n",
        "a = np.array([9, 2, 3, 4, 8, 7, 10, 9])\n",
        "a = a[(a >= 8)]\n",
        "print(a)\n"
      ],
      "metadata": {
        "id": "6c1HddZU001T",
        "colab": {
          "base_uri": "https://localhost:8080/"
        },
        "outputId": "341b825d-63d5-487c-a36b-940feb89ccd3"
      },
      "execution_count": 26,
      "outputs": [
        {
          "output_type": "stream",
          "name": "stdout",
          "text": [
            "[ 9  8 10  9]\n"
          ]
        }
      ]
    }
  ]
}