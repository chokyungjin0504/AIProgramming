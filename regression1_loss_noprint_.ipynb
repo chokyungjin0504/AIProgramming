{
  "cells": [
    {
      "cell_type": "markdown",
      "metadata": {
        "id": "view-in-github",
        "colab_type": "text"
      },
      "source": [
        "<a href=\"https://colab.research.google.com/github/chokyungjin0504/AIProgramming/blob/main/regression1_loss_noprint_.ipynb\" target=\"_parent\"><img src=\"https://colab.research.google.com/assets/colab-badge.svg\" alt=\"Open In Colab\"/></a>"
      ]
    },
    {
      "cell_type": "code",
      "execution_count": 1,
      "metadata": {
        "id": "f9ze0bFpjsoV",
        "outputId": "7542946c-0dfd-4f43-c1f6-55fad27ae208",
        "colab": {
          "base_uri": "https://localhost:8080/",
          "height": 627
        }
      },
      "outputs": [
        {
          "output_type": "stream",
          "name": "stdout",
          "text": [
            "iteration   0: loss  17.17 w 0.10 b 0.08 \n",
            "iteration  50: loss  0.61 w 1.73 b 1.71 \n",
            "iteration 100: loss  0.33 w 1.73 b 2.05 \n",
            "iteration 150: loss  0.24 w 1.63 b 2.23 \n",
            "iteration 200: loss  0.19 w 1.53 b 2.36 \n",
            "iteration 250: loss  0.16 w 1.47 b 2.45 \n",
            "iteration 300: loss  0.15 w 1.41 b 2.52 \n",
            "iteration 350: loss  0.14 w 1.37 b 2.58 \n",
            "iteration 400: loss  0.13 w 1.34 b 2.62 \n",
            "iteration 450: loss  0.13 w 1.32 b 2.65 \n",
            "########## final w,b 1.3033228991130752 2.6760184293088694\n"
          ]
        },
        {
          "output_type": "display_data",
          "data": {
            "text/plain": [
              "<Figure size 640x480 with 1 Axes>"
            ],
            "image/png": "[encoded data removed]"
          },
          "metadata": {}
        }
      ],
      "source": [
        "import numpy as np\n",
        "import matplotlib.pyplot as plt\n",
        "\n",
        "\n",
        "def mse(y,y_hat):\n",
        "    return ((y-y_hat)**2).mean()\n",
        "\n",
        "def mse_val(y,predict_result):\n",
        "  return mse(np.array(y),np.array(predict_result))\n",
        "\n",
        "\n",
        "\n",
        "X = np.array([0.0, 1.0, 2.0])\n",
        "y = np.array([3.0, 3.5, 5.5])\n",
        "\n",
        "w = 0       # 기울기\n",
        "b = 0       # 절편\n",
        "\n",
        "lrate = 0.01  # 학습률\n",
        "epochs = 500  # 반복 횟수\n",
        "\n",
        "n = float(len(X)) # 입력 데이터의 개수\n",
        "\n",
        "# 경사 하강법\n",
        "j=0\n",
        "for i in range(epochs):\n",
        "    y_pred = w*X + b  \t\t\t# 선형 회귀 예측값\n",
        "    dw = (2/n) * sum(X * (y_pred-y)) \t# 넘파이 배열간의 산술 계산은 요소별로 적용\n",
        "    db = (2/n) * sum(y_pred-y)  \t# sum()은 모든 요소들의 합을 계산하는 내장 함수\n",
        "    w = w - lrate * dw  \t\t# 기울기 수정\n",
        "    b = b - lrate * db  \t\t# 절편 수정\n",
        "    if (i%50==0):\n",
        "      print('iteration %3d: loss  %4.2f w %3.2f b %3.2f '%(i,mse(y,y_pred),w,b))\n",
        "      j=j+1\n",
        "\n",
        "# 기울기와 절편을 출력한다.\n",
        "print ('########## final w,b',w, b)\n",
        "\n",
        "# 예측값을 만든다.\n",
        "y_pred = w*X + b\n",
        "\n",
        "\n",
        "# 입력 데이터를 그래프 상에 찍는다.\n",
        "plt.scatter(X, y)\n",
        "\n",
        "# 예측값은 선그래프로 그린다.\n",
        "plt.plot([min(X), max(X)], [min(y_pred), max(y_pred)], color='red')\n",
        "plt.show()\n"
      ]
    },
    {
      "cell_type": "code",
      "execution_count": null,
      "metadata": {
        "id": "5SLS3C9Jjsoc"
      },
      "outputs": [],
      "source": []
    }
  ],
  "metadata": {
    "colab": {
      "provenance": [],
      "include_colab_link": true
    },
    "kernelspec": {
      "display_name": "Python 3 (ipykernel)",
      "language": "python",
      "name": "python3"
    },
    "language_info": {
      "codemirror_mode": {
        "name": "ipython",
        "version": 3
      },
      "file_extension": ".py",
      "mimetype": "text/x-python",
      "name": "python",
      "nbconvert_exporter": "python",
      "pygments_lexer": "ipython3",
      "version": "3.7.11"
    }
  },
  "nbformat": 4,
  "nbformat_minor": 0
}