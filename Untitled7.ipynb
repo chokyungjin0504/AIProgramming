{
  "nbformat": 4,
  "nbformat_minor": 0,
  "metadata": {
    "colab": {
      "provenance": [],
      "authorship_tag": "ABX9TyPczqPMbJAbVOgkE67evxpM",
      "include_colab_link": true
    },
    "kernelspec": {
      "name": "python3",
      "display_name": "Python 3"
    },
    "language_info": {
      "name": "python"
    }
  },
  "cells": [
    {
      "cell_type": "markdown",
      "metadata": {
        "id": "view-in-github",
        "colab_type": "text"
      },
      "source": [
        "<a href=\"https://colab.research.google.com/github/chokyungjin0504/AIProgramming/blob/main/Untitled7.ipynb\" target=\"_parent\"><img src=\"https://colab.research.google.com/assets/colab-badge.svg\" alt=\"Open In Colab\"/></a>"
      ]
    },
    {
      "cell_type": "code",
      "execution_count": 6,
      "metadata": {
        "colab": {
          "base_uri": "https://localhost:8080/"
        },
        "id": "fenyxgAzlZQ0",
        "outputId": "2cea49f3-39e8-4770-f708-87e97edf943c"
      },
      "outputs": [
        {
          "output_type": "stream",
          "name": "stdout",
          "text": [
            "[0 0 0 1]\n",
            "[0 0 0 1]\n",
            "[0 0 0 0]\n"
          ]
        }
      ],
      "source": [
        "x = [[0,0],[0,1],[1,0],[1,1]]\n",
        "y = [0,0,0,1]\n",
        "\n",
        "clf = Perceptron(tol=1e-3, random_state=0)\n",
        "\n",
        "clf.fit(x,y)\n",
        "\n",
        "print(clf.predict(x))\n",
        "\n",
        "\n",
        "from sklearn.linear_model import Perceptron\n",
        "\n",
        "x = [[0,0],[1,0],[0,1],[1,1]]\n",
        "y = [0,0,0,1]\n",
        "\n",
        "clf = Perceptron(tol=1e-3, random_state=0)\n",
        "\n",
        "clf.fit(x,y)\n",
        "\n",
        "print(clf.predict(x))\n",
        "\n",
        "x = [[0,0],[1,0],[0,1],[1,1]]\n",
        "y = [0,1,1,0]\n",
        "\n",
        "clf = Perceptron(tol=1e-3, random_state=0)\n",
        "\n",
        "clf.fit(x,y)\n",
        "\n",
        "print(clf.predict(x))"
      ]
    }
  ]
}