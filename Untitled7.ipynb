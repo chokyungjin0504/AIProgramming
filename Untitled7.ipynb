{
  "nbformat": 4,
  "nbformat_minor": 0,
  "metadata": {
    "colab": {
      "provenance": [],
      "authorship_tag": "ABX9TyMw+xo/mqf5jC8i9eEAU01d",
      "include_colab_link": true
    },
    "kernelspec": {
      "name": "python3",
      "display_name": "Python 3"
    },
    "language_info": {
      "name": "python"
    }
  },
  "cells": [
    {
      "cell_type": "markdown",
      "metadata": {
        "id": "view-in-github",
        "colab_type": "text"
      },
      "source": [
        "<a href=\"https://colab.research.google.com/github/chokyungjin0504/AIProgramming/blob/main/Untitled7.ipynb\" target=\"_parent\"><img src=\"https://colab.research.google.com/assets/colab-badge.svg\" alt=\"Open In Colab\"/></a>"
      ]
    },
    {
      "cell_type": "code",
      "execution_count": 5,
      "metadata": {
        "colab": {
          "base_uri": "https://localhost:8080/"
        },
        "id": "fenyxgAzlZQ0",
        "outputId": "0e6d01fc-9ff7-476f-f936-b565c4a93a14"
      },
      "outputs": [
        {
          "output_type": "stream",
          "name": "stdout",
          "text": [
            "[0 0 0 1]\n",
            "[0 0 0 0]\n"
          ]
        }
      ],
      "source": [
        "from sklearn.linear_model import Perceptron\n",
        "\n",
        "x = [[0,0],[1,0],[0,1],[1,1]]\n",
        "y = [0,0,0,1]\n",
        "\n",
        "clf = Perceptron(tol=1e-3, random_state=0)\n",
        "\n",
        "clf.fit(x,y)\n",
        "\n",
        "print(clf.predict(x))\n",
        "\n",
        "x = [[0,0],[1,0],[0,1],[1,1]]\n",
        "y = [0,1,1,0]\n",
        "\n",
        "clf = Perceptron(tol=1e-3, random_state=0)\n",
        "\n",
        "clf.fit(x,y)\n",
        "\n",
        "print(clf.predict(x))"
      ]
    }
  ]
}