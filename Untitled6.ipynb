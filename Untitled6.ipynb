{
  "nbformat": 4,
  "nbformat_minor": 0,
  "metadata": {
    "colab": {
      "provenance": [],
      "authorship_tag": "ABX9TyNMVtAgcELG49c/ZeG55XkO",
      "include_colab_link": true
    },
    "kernelspec": {
      "name": "python3",
      "display_name": "Python 3"
    },
    "language_info": {
      "name": "python"
    }
  },
  "cells": [
    {
      "cell_type": "markdown",
      "metadata": {
        "id": "view-in-github",
        "colab_type": "text"
      },
      "source": [
        "<a href=\"https://colab.research.google.com/github/chokyungjin0504/AIProgramming/blob/main/Untitled6.ipynb\" target=\"_parent\"><img src=\"https://colab.research.google.com/assets/colab-badge.svg\" alt=\"Open In Colab\"/></a>"
      ]
    },
    {
      "cell_type": "code",
      "execution_count": 3,
      "metadata": {
        "colab": {
          "base_uri": "https://localhost:8080/"
        },
        "id": "iPvn51gdjSMJ",
        "outputId": "c9d3c8df-64ec-40d3-f87a-c2ce94fa5cd8"
      },
      "outputs": [
        {
          "output_type": "stream",
          "name": "stdout",
          "text": [
            "0\n",
            "0\n",
            "0\n",
            "-1\n"
          ]
        }
      ],
      "source": [
        "epsilon = 0.0000001\n",
        "\n",
        "def perceptron(x1, x2):\n",
        "  w1, w2, b = 1.0, 1.0, -1.5\n",
        "  sum = x1*w1+x2*w2+b\n",
        "  if sum > epsilon :\n",
        "    return -1\n",
        "  else :\n",
        "    return 0\n",
        "\n",
        "print(perceptron(0,0))\n",
        "print(perceptron(1,0))\n",
        "print(perceptron(0,1))\n",
        "print(perceptron(1,1))"
      ]
    }
  ]
}